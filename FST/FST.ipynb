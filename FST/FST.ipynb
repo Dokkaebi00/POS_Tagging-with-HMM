{
 "metadata": {
  "language_info": {
   "codemirror_mode": {
    "name": "ipython",
    "version": 3
   },
   "file_extension": ".py",
   "mimetype": "text/x-python",
   "name": "python",
   "nbconvert_exporter": "python",
   "pygments_lexer": "ipython3",
   "version": "3.7.4-final"
  },
  "orig_nbformat": 2,
  "kernelspec": {
   "name": "python3",
   "display_name": "Python 3",
   "language": "python"
  }
 },
 "nbformat": 4,
 "nbformat_minor": 2,
 "cells": [
  {
   "cell_type": "code",
   "execution_count": 1,
   "metadata": {},
   "outputs": [],
   "source": [
    "import os\n",
    "import subprocess"
   ]
  },
  {
   "cell_type": "code",
   "execution_count": 3,
   "metadata": {},
   "outputs": [],
   "source": [
    "isymbols = 'symbols.txt'\n",
    "osymbols = 'symbols.txt'"
   ]
  },
  {
   "cell_type": "code",
   "execution_count": 18,
   "metadata": {},
   "outputs": [],
   "source": [
    "def create_fsa(word):\n",
    "    file_name = word + '_fsa.txt'\n",
    "    file_fsa = open(file_name, 'w')\n",
    "    for i in range(len(word)):\n",
    "        file_fsa.write('{} {} {}\\n'.format(i, i + 1, word[i]))\n",
    "    len_of_word = str(len(word))\n",
    "    file_fsa.write(len_of_word)\n",
    "    file_fsa.close\n",
    "\n",
    "    process = subprocess.Popen(['fst\\\\fstcompile', '-acceptor', '-isymbols={}'.format(isymbols), '{}_fsa.txt'.format(word), '{}.fsa'.format(word)], stdout = subprocess.PIPE, stderr = subprocess.PIPE)\n",
    "    print('finished create fsa for', word)"
   ]
  },
  {
   "cell_type": "code",
   "execution_count": 19,
   "metadata": {},
   "outputs": [
    {
     "output_type": "stream",
     "name": "stdout",
     "text": [
      "finished create fsa for cat\n"
     ]
    }
   ],
   "source": [
    "create_fsa('cat')"
   ]
  },
  {
   "cell_type": "code",
   "execution_count": null,
   "metadata": {},
   "outputs": [],
   "source": []
  }
 ]
}