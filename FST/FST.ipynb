{
 "metadata": {
  "language_info": {
   "codemirror_mode": {
    "name": "ipython",
    "version": 3
   },
   "file_extension": ".py",
   "mimetype": "text/x-python",
   "name": "python",
   "nbconvert_exporter": "python",
   "pygments_lexer": "ipython3",
   "version": "3.7.4-final"
  },
  "orig_nbformat": 2,
  "kernelspec": {
   "name": "python3",
   "display_name": "Python 3",
   "language": "python"
  }
 },
 "nbformat": 4,
 "nbformat_minor": 2,
 "cells": [
  {
   "cell_type": "code",
   "execution_count": 1,
   "metadata": {},
   "outputs": [],
   "source": [
    "import os\n",
    "import subprocess\n",
    "import cv2"
   ]
  },
  {
   "cell_type": "code",
   "execution_count": 2,
   "metadata": {},
   "outputs": [],
   "source": [
    "isymbols = 'symbols.txt'\n",
    "osymbols = 'symbols.txt'"
   ]
  },
  {
   "cell_type": "code",
   "execution_count": 3,
   "metadata": {},
   "outputs": [],
   "source": [
    "def create_fsa(word):\n",
    "    file_name = word + '_fsa.txt'\n",
    "    file_fsa = open(file_name, 'w')\n",
    "    for i in range(len(word)):\n",
    "        file_fsa.write('{} {} {}\\n'.format(i, i + 1, word[i]))\n",
    "    len_of_word = str(len(word))\n",
    "    file_fsa.write(len_of_word)\n",
    "    file_fsa.close\n",
    "\n",
    "    process = subprocess.Popen(['fst\\\\fstcompile', '-acceptor', '-isymbols={}'.format(isymbols), '{}_fsa.txt'.format(word), '{}.fsa'.format(word)], stdout = subprocess.PIPE, stderr = subprocess.PIPE)\n",
    "    print('finished create fsa for', word)"
   ]
  },
  {
   "cell_type": "code",
   "execution_count": 4,
   "metadata": {},
   "outputs": [
    {
     "output_type": "stream",
     "name": "stdout",
     "text": [
      "finished create fsa for cat\n"
     ]
    }
   ],
   "source": [
    "create_fsa('cat')"
   ]
  },
  {
   "cell_type": "code",
   "execution_count": 5,
   "metadata": {},
   "outputs": [],
   "source": [
    "def create_fst(string):\n",
    "\ts, morp = string.split(' -> ')\n",
    "\n",
    "\tf = open('{}_fst.txt'.format(s), 'w')\n",
    "\tword = s\n",
    "\tparts = morp.split('+')\n",
    "\td = len(s) - (len(parts[0]) + len(parts) - 1)\n",
    "\tif d>0:\n",
    "\t\tparts[0] += '#' * d\n",
    "\telse:\n",
    "\t\td = -d\n",
    "\t\ts += '#' * d\n",
    "\n",
    "\tfor i in range(len(parts[0])):\n",
    "\t\tf.write('{} {} {} {}\\n'.format(i, i+1, s[i], morp[i]))\n",
    "\n",
    "\tmorplen = len(parts[0])\n",
    "\tfor  i in range(1,len(parts)):\n",
    "\t\tparts[i] = '+' + parts[i]\n",
    "\t\tf.write('{} {} {} {}\\n'.format(morplen + i - 1, morplen + i, s[morplen + i - 1], parts[i]))\n",
    "\n",
    "\tf.write('{}\\n'.format(morplen + len(parts) - 1))\n",
    "\n",
    "\tf.close()\n",
    "\n",
    "\tprocess = subprocess.Popen(['fst\\\\fstcompile', '-isymbols={}'.format(isymbols), '-osymbols={}'.format(osymbols), '{}_fst.txt'.format(word), '{}.fst'.format(word)], stdout = subprocess.PIPE, stderr = subprocess.PIPE)\n",
    "\n",
    "\tprint('create fst for', string)\n"
   ]
  },
  {
   "cell_type": "code",
   "execution_count": 6,
   "metadata": {},
   "outputs": [
    {
     "output_type": "stream",
     "name": "stdout",
     "text": [
      "create fst for cat -> cat+N+SG\n"
     ]
    }
   ],
   "source": [
    "create_fst('cat -> cat+N+SG')"
   ]
  },
  {
   "cell_type": "code",
   "execution_count": 7,
   "metadata": {},
   "outputs": [],
   "source": [
    "def union(word1, word2, type, output_file_name):\n",
    "    process = subprocess.Popen(['fst\\\\fstunion', f'{word1}.{type}', f'{word2}.{type}', f'{word1}{word2}.{type}'], stdout = subprocess.PIPE, stderr = subprocess.PIPE)\n",
    "    process = subprocess.Popen(['fst\\\\fstdeterminize', f'{word1}{word2}.{type}', f'{output_file_name}.{type}'], stdout = subprocess.PIPE, stderr = subprocess.PIPE)\n",
    "    process = subprocess.Popen(['fst\\\\fstrmepsilon', f'{output_file_name}.{type}', f'temp.{type}'], stdout = subprocess.PIPE, stderr = subprocess.PIPE)\n",
    "    process = subprocess.Popen(['fst\\\\fstdeterminize', f'temp.{type}', f'{output_file_name}.{type}'], stdout = subprocess.PIPE, stderr = subprocess.PIPE)\n",
    "    process = subprocess.Popen(['fst\\\\fstminimize', f'{output_file_name}.{type}'], stdout = subprocess.PIPE, stderr = subprocess.PIPE)"
   ]
  },
  {
   "cell_type": "code",
   "execution_count": 8,
   "metadata": {},
   "outputs": [],
   "source": [
    "def show(file_name, type, type_of_image = 'jpg'):\n",
    "    if type == 'fsa':\n",
    "        process = subprocess.Popen(['fst\\\\fstdraw', '-acceptor', '-portrait', '-isymbols=symbols.txt', '-osymbols=symbols.txt', f'{file_name}.fsa', f'{file_name}.dot'], stdout = subprocess.PIPE, stderr = subprocess.PIPE)\n",
    "    else:\n",
    "        process = subprocess.Popen(['fst\\\\fstdraw', '-portrait', '-isymbols=symbols.txt', '-osymbols=symbols.txt', f'{file_name}.fst', f'{file_name}.dot'], stdout = subprocess.PIPE, stderr = subprocess.PIPE)\n",
    "    \n",
    "    process = subprocess.Popen(['graphviz\\\\dot', f'-T{type_of_image}', f'{file_name}.dot', f'-o{file_name}.{type_of_image}'], stdout = subprocess.PIPE, stderr = subprocess.PIPE)\n",
    "\n",
    "    os.system(f'{file_name}.{type_of_image}')\n"
   ]
  },
  {
   "cell_type": "code",
   "execution_count": 9,
   "metadata": {},
   "outputs": [
    {
     "output_type": "stream",
     "name": "stdout",
     "text": [
      "create fst for cat -> cat+N+SG\ncreate fst for caps -> cap+N+PL\ncreate fst for captain -> captain+N+SG\n"
     ]
    }
   ],
   "source": [
    "create_fst('cat -> cat+N+SG')\n",
    "create_fst('caps -> cap+N+PL')\n",
    "create_fst('captain -> captain+N+SG')\n",
    "\n",
    "union('cat','caps','fst','catcaps')\n",
    "union('catcaps','captain','fst','catcapscaptain')\n",
    "show('catcapscaptain','fst')"
   ]
  },
  {
   "cell_type": "code",
   "execution_count": null,
   "metadata": {},
   "outputs": [],
   "source": [
    "cv2.imshow()"
   ]
  },
  {
   "cell_type": "code",
   "execution_count": null,
   "metadata": {},
   "outputs": [],
   "source": []
  }
 ]
}