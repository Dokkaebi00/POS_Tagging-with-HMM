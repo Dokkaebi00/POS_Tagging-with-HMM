{
  "nbformat": 4,
  "nbformat_minor": 0,
  "metadata": {
    "language_info": {
      "codemirror_mode": {
        "name": "ipython",
        "version": 3
      },
      "file_extension": ".py",
      "mimetype": "text/x-python",
      "name": "python",
      "nbconvert_exporter": "python",
      "pygments_lexer": "ipython3",
      "version": "3.6.9-final"
    },
    "orig_nbformat": 2,
    "kernelspec": {
      "name": "python3",
      "display_name": "Python 3.6.9 64-bit",
      "metadata": {
        "interpreter": {
          "hash": "31f2aee4e71d21fbe5cf8b01ff0e069b9275f58929596ceb00d14d90e3e16cd6"
        }
      }
    },
    "colab": {
      "name": "POS_RNN.ipynb",
      "provenance": [],
      "toc_visible": true
    }
  },
  "cells": [
    {
      "cell_type": "markdown",
      "metadata": {
        "id": "3P6phKzEcEDT"
      },
      "source": [
        "## Loading essential libraries "
      ]
    },
    {
      "cell_type": "code",
      "metadata": {
        "id": "fAkP62SNcEDc"
      },
      "source": [
        "# import necessary libraries\n",
        "import warnings\n",
        "warnings.filterwarnings(\"ignore\")\n",
        "\n",
        "import numpy as np\n",
        "\n",
        "from matplotlib import pyplot as plt\n",
        "\n",
        "from nltk.corpus import brown\n",
        "from nltk.corpus import treebank\n",
        "from nltk.corpus import conll2000\n",
        "\n",
        "import seaborn as sns\n",
        "\n",
        "from gensim.models import KeyedVectors\n",
        "\n",
        "from keras.preprocessing.sequence import pad_sequences\n",
        "from keras.utils.np_utils import to_categorical\n",
        "from keras.models import Sequential\n",
        "from keras.layers import Embedding\n",
        "from keras.layers import Dense, Input\n",
        "from keras.layers import TimeDistributed\n",
        "from keras.layers import LSTM, GRU, Bidirectional, SimpleRNN, RNN\n",
        "from keras.models import Model\n",
        "from keras.preprocessing.text import Tokenizer\n",
        "\n",
        "from sklearn.model_selection import train_test_split\n",
        "from sklearn.utils import shuffle"
      ],
      "execution_count": 1,
      "outputs": []
    },
    {
      "cell_type": "markdown",
      "metadata": {
        "id": "_l1Dg-L3e0QY"
      },
      "source": [
        "# Download Dataset"
      ]
    },
    {
      "cell_type": "code",
      "metadata": {
        "id": "oSjMuzPFe2I9",
        "colab": {
          "base_uri": "https://localhost:8080/"
        },
        "outputId": "3e91eeac-1f83-483a-e987-bc8f5671b5b8"
      },
      "source": [
        "import nltk\r\n",
        "nltk.download('universal_tagset')\r\n",
        "nltk.download('treebank')\r\n",
        "nltk.download('brown')\r\n",
        "nltk.download('conll2000')"
      ],
      "execution_count": 2,
      "outputs": [
        {
          "output_type": "stream",
          "text": [
            "[nltk_data] Downloading package universal_tagset to /root/nltk_data...\n",
            "[nltk_data]   Unzipping taggers/universal_tagset.zip.\n",
            "[nltk_data] Downloading package treebank to /root/nltk_data...\n",
            "[nltk_data]   Unzipping corpora/treebank.zip.\n",
            "[nltk_data] Downloading package brown to /root/nltk_data...\n",
            "[nltk_data]   Unzipping corpora/brown.zip.\n",
            "[nltk_data] Downloading package conll2000 to /root/nltk_data...\n",
            "[nltk_data]   Unzipping corpora/conll2000.zip.\n"
          ],
          "name": "stdout"
        },
        {
          "output_type": "execute_result",
          "data": {
            "text/plain": [
              "True"
            ]
          },
          "metadata": {
            "tags": []
          },
          "execution_count": 2
        }
      ]
    },
    {
      "cell_type": "markdown",
      "metadata": {
        "id": "jQ2FzIOzcEDd"
      },
      "source": [
        "# Preprocess Data\n",
        "Using POS Tagged Corpora from NLTK\n"
      ]
    },
    {
      "cell_type": "code",
      "metadata": {
        "id": "2PL5iw6fcEDe"
      },
      "source": [
        "# load POS tagged corpora from NLTK\n",
        "treebank_corpus = treebank.tagged_sents(tagset='universal')\n",
        "brown_corpus = brown.tagged_sents(tagset='universal')\n",
        "conll_corpus = conll2000.tagged_sents(tagset='universal')\n",
        "tagged_sentences = treebank_corpus + brown_corpus + conll_corpus"
      ],
      "execution_count": 3,
      "outputs": []
    },
    {
      "cell_type": "code",
      "metadata": {
        "id": "hQooYCtgcEDe",
        "colab": {
          "base_uri": "https://localhost:8080/"
        },
        "outputId": "80349c83-1882-45d6-a921-e4a87c5eca6a"
      },
      "source": [
        "# Quick look at dataset \r\n",
        "tagged_sentences[7]"
      ],
      "execution_count": 4,
      "outputs": [
        {
          "output_type": "execute_result",
          "data": {
            "text/plain": [
              "[('A', 'DET'),\n",
              " ('Lorillard', 'NOUN'),\n",
              " ('spokewoman', 'NOUN'),\n",
              " ('said', 'VERB'),\n",
              " (',', '.'),\n",
              " ('``', '.'),\n",
              " ('This', 'DET'),\n",
              " ('is', 'VERB'),\n",
              " ('an', 'DET'),\n",
              " ('old', 'ADJ'),\n",
              " ('story', 'NOUN'),\n",
              " ('.', '.')]"
            ]
          },
          "metadata": {
            "tags": []
          },
          "execution_count": 4
        }
      ]
    },
    {
      "cell_type": "markdown",
      "metadata": {
        "id": "yQQDLdrln0lm"
      },
      "source": [
        "## Split word and tags "
      ]
    },
    {
      "cell_type": "code",
      "metadata": {
        "id": "zfD7CWoReZbl"
      },
      "source": [
        "X = [] # store words  \r\n",
        "Y = [] # store tags  "
      ],
      "execution_count": 5,
      "outputs": []
    },
    {
      "cell_type": "code",
      "metadata": {
        "id": "akHOa5phekCy"
      },
      "source": [
        "for sentence in tagged_sentences:\r\n",
        "    X_sentence = []\r\n",
        "    Y_sentence = []\r\n",
        "    for entity in sentence:         \r\n",
        "        X_sentence.append(entity[0])  # entity[0] contains the word\r\n",
        "        Y_sentence.append(entity[1])  # entity[1] contains corresponding tag\r\n",
        "        \r\n",
        "    X.append(X_sentence)\r\n",
        "    Y.append(Y_sentence)"
      ],
      "execution_count": 6,
      "outputs": []
    },
    {
      "cell_type": "code",
      "metadata": {
        "id": "9LkRa6eceqg-"
      },
      "source": [
        "num_words = len(set([word.lower() for sentence in X for word in sentence]))\r\n",
        "num_tags   = len(set([word.lower() for sentence in Y for word in sentence]))"
      ],
      "execution_count": 7,
      "outputs": []
    },
    {
      "cell_type": "code",
      "metadata": {
        "id": "4dFrcK8oeumj",
        "colab": {
          "base_uri": "https://localhost:8080/"
        },
        "outputId": "a1d20e72-cd2d-465a-f36f-d48b16109e01"
      },
      "source": [
        "print(\"Total number of tagged sentences: {}\".format(len(X)))\r\n",
        "print(\"Vocabulary size: {}\".format(num_words))\r\n",
        "print(\"Total number of tags: {}\".format(num_tags))"
      ],
      "execution_count": 8,
      "outputs": [
        {
          "output_type": "stream",
          "text": [
            "Total number of tagged sentences: 72202\n",
            "Vocabulary size: 59448\n",
            "Total number of tags: 12\n"
          ],
          "name": "stdout"
        }
      ]
    },
    {
      "cell_type": "code",
      "metadata": {
        "id": "rOCM2AA9eqoh",
        "colab": {
          "base_uri": "https://localhost:8080/"
        },
        "outputId": "2e63ff14-3ee0-4af8-dc3e-fe63f86335d0"
      },
      "source": [
        "# let's look at first data point\r\n",
        "# this is one data point that will be fed to the RNN\r\n",
        "print('sample X: ', X[0], '\\n')\r\n",
        "print('sample Y: ', Y[0], '\\n')"
      ],
      "execution_count": 9,
      "outputs": [
        {
          "output_type": "stream",
          "text": [
            "sample X:  ['Pierre', 'Vinken', ',', '61', 'years', 'old', ',', 'will', 'join', 'the', 'board', 'as', 'a', 'nonexecutive', 'director', 'Nov.', '29', '.'] \n",
            "\n",
            "sample Y:  ['NOUN', 'NOUN', '.', 'NUM', 'NOUN', 'ADJ', '.', 'VERB', 'VERB', 'DET', 'NOUN', 'ADP', 'DET', 'ADJ', 'NOUN', 'NOUN', 'NUM', '.'] \n",
            "\n"
          ],
          "name": "stdout"
        }
      ]
    },
    {
      "cell_type": "code",
      "metadata": {
        "id": "WtvQcJcRgXyU",
        "colab": {
          "base_uri": "https://localhost:8080/"
        },
        "outputId": "4125242c-920b-492d-d7b1-2c6aa464ad9f"
      },
      "source": [
        "# In this many-to-many problem, the length of each input and output sequence must be the same.\r\n",
        "# Since each word is tagged, it's important to make sure that the length of input sequence equals the output sequence\r\n",
        "print(\"Length of first input sequence  : {}\".format(len(X[0])))\r\n",
        "print(\"Length of first output sequence : {}\".format(len(Y[0])))"
      ],
      "execution_count": 10,
      "outputs": [
        {
          "output_type": "stream",
          "text": [
            "Length of first input sequence  : 18\n",
            "Length of first output sequence : 18\n"
          ],
          "name": "stdout"
        }
      ]
    },
    {
      "cell_type": "markdown",
      "metadata": {
        "id": "JH0pKZMon3jZ"
      },
      "source": [
        "## Vectorize X and Y \r\n",
        "\r\n",
        "**Encode X and Y to integer values**\r\n",
        "Using Tokenizer() from Keras to encode text sequence to integer sequence "
      ]
    },
    {
      "cell_type": "code",
      "metadata": {
        "id": "GP_t7jzcgagZ"
      },
      "source": [
        "# encode X\r\n",
        "word_tokenizer = Tokenizer()                      # instantiate tokeniser\r\n",
        "word_tokenizer.fit_on_texts(X)                    # fit tokeniser on data\r\n",
        "X_encoded = word_tokenizer.texts_to_sequences(X)  # use the tokeniser to encode input sequence"
      ],
      "execution_count": 14,
      "outputs": []
    },
    {
      "cell_type": "code",
      "metadata": {
        "id": "g-kvXD444O0Y"
      },
      "source": [
        "# encode Y\r\n",
        "tag_tokenizer = Tokenizer()\r\n",
        "tag_tokenizer.fit_on_texts(Y)\r\n",
        "Y_encoded = tag_tokenizer.texts_to_sequences(Y)"
      ],
      "execution_count": 15,
      "outputs": []
    },
    {
      "cell_type": "code",
      "metadata": {
        "id": "nUY_WV6D4Rv7",
        "colab": {
          "base_uri": "https://localhost:8080/"
        },
        "outputId": "ae8507da-663a-4417-93ed-7faacbd8a8d4"
      },
      "source": [
        "# look at first encoded data point\r\n",
        "print(\"** Raw data point **\", \"\\n\", \"-\"*100, \"\\n\")\r\n",
        "print('X: ', X[0], '\\n')\r\n",
        "print('Y: ', Y[0], '\\n')\r\n",
        "print()\r\n",
        "print(\"** Encoded data point **\", \"\\n\", \"-\"*100, \"\\n\")\r\n",
        "print('X: ', X_encoded[0], '\\n')\r\n",
        "print('Y: ', Y_encoded[0], '\\n')"
      ],
      "execution_count": 16,
      "outputs": [
        {
          "output_type": "stream",
          "text": [
            "** Raw data point ** \n",
            " ---------------------------------------------------------------------------------------------------- \n",
            "\n",
            "X:  ['Pierre', 'Vinken', ',', '61', 'years', 'old', ',', 'will', 'join', 'the', 'board', 'as', 'a', 'nonexecutive', 'director', 'Nov.', '29', '.'] \n",
            "\n",
            "Y:  ['NOUN', 'NOUN', '.', 'NUM', 'NOUN', 'ADJ', '.', 'VERB', 'VERB', 'DET', 'NOUN', 'ADP', 'DET', 'ADJ', 'NOUN', 'NOUN', 'NUM', '.'] \n",
            "\n",
            "\n",
            "** Encoded data point ** \n",
            " ---------------------------------------------------------------------------------------------------- \n",
            "\n",
            "X:  [6423, 24231, 2, 7652, 102, 170, 2, 47, 1898, 1, 269, 17, 7, 13230, 619, 1711, 2761, 3] \n",
            "\n",
            "Y:  [1, 1, 3, 11, 1, 6, 3, 2, 2, 5, 1, 4, 5, 6, 1, 1, 11, 3] \n",
            "\n"
          ],
          "name": "stdout"
        }
      ]
    },
    {
      "cell_type": "code",
      "metadata": {
        "id": "NgckLW-M4X_H",
        "outputId": "61af4d87-b1b6-4047-cc7a-d54cbcfe731e",
        "colab": {
          "base_uri": "https://localhost:8080/"
        }
      },
      "source": [
        "# make sure that each sequence of input and output is same length\r\n",
        "\r\n",
        "different_length = [1 if len(input) != len(output) else 0 for input, output in zip(X_encoded, Y_encoded)]\r\n",
        "print(\"{} sentences have disparate input-output lengths.\".format(sum(different_length)))"
      ],
      "execution_count": 17,
      "outputs": [
        {
          "output_type": "stream",
          "text": [
            "0 sentences have disparate input-output lengths.\n"
          ],
          "name": "stdout"
        }
      ]
    },
    {
      "cell_type": "markdown",
      "metadata": {
        "id": "TE3LoDV9ogdU"
      },
      "source": [
        "## Pad sequences  \r\n",
        "With the graph below, an ideal length would be **100** for each sequence   "
      ]
    },
    {
      "cell_type": "code",
      "metadata": {
        "id": "KpYUSCUkofLl",
        "outputId": "9636bded-6bd0-422e-8b56-e3710b251389",
        "colab": {
          "base_uri": "https://localhost:8080/"
        }
      },
      "source": [
        "# check length of longest sentence\r\n",
        "lengths = [len(seq) for seq in X_encoded]\r\n",
        "print(\"Length of longest sentence: {}\".format(max(lengths)))"
      ],
      "execution_count": 18,
      "outputs": [
        {
          "output_type": "stream",
          "text": [
            "Length of longest sentence: 271\n"
          ],
          "name": "stdout"
        }
      ]
    },
    {
      "cell_type": "code",
      "metadata": {
        "id": "-w5rmevGoksF",
        "outputId": "d7845f68-4a75-4bae-83f9-4f049b7c7270",
        "colab": {
          "base_uri": "https://localhost:8080/",
          "height": 264
        }
      },
      "source": [
        "sns.boxplot(lengths)\r\n",
        "plt.show()"
      ],
      "execution_count": 19,
      "outputs": [
        {
          "output_type": "display_data",
          "data": {
            "image/png": "[encoded data removed]",
            "text/plain": [
              "<Figure size 432x288 with 1 Axes>"
            ]
          },
          "metadata": {
            "tags": [],
            "needs_background": "light"
          }
        }
      ]
    },
    {
      "cell_type": "code",
      "metadata": {
        "id": "2PsP4syRomXZ"
      },
      "source": [
        "# Pad each sequence to MAX_SEQ_LENGTH using KERAS' pad_sequences() function. \r\n",
        "# Sentences longer than MAX_SEQ_LENGTH are truncated.\r\n",
        "# Sentences shorter than MAX_SEQ_LENGTH are padded with zeroes.\r\n",
        "\r\n",
        "# Truncation and padding can either be 'pre' or 'post'. \r\n",
        "# For padding we are using 'pre' padding type, that is, add zeroes on the left side.\r\n",
        "# For truncation, we are using 'post', that is, truncate a sentence from right side.\r\n",
        "\r\n",
        "MAX_SEQ_LENGTH = 100  # sequences greater than 100 in length will be truncated\r\n",
        "\r\n",
        "X_padded = pad_sequences(X_encoded, maxlen=MAX_SEQ_LENGTH, padding=\"pre\", truncating=\"post\")\r\n",
        "Y_padded = pad_sequences(Y_encoded, maxlen=MAX_SEQ_LENGTH, padding=\"pre\", truncating=\"post\")"
      ],
      "execution_count": 20,
      "outputs": []
    },
    {
      "cell_type": "code",
      "metadata": {
        "id": "oiXyV0bkoqOy",
        "outputId": "8da46df1-fe18-4461-eec1-a329ca66b909",
        "colab": {
          "base_uri": "https://localhost:8080/"
        }
      },
      "source": [
        "# print the first sequence\r\n",
        "print(X_padded[0], \"\\n\"*3)\r\n",
        "print(Y_padded[0])"
      ],
      "execution_count": 22,
      "outputs": [
        {
          "output_type": "stream",
          "text": [
            "[    0     0     0     0     0     0     0     0     0     0     0     0\n",
            "     0     0     0     0     0     0     0     0     0     0     0     0\n",
            "     0     0     0     0     0     0     0     0     0     0     0     0\n",
            "     0     0     0     0     0     0     0     0     0     0     0     0\n",
            "     0     0     0     0     0     0     0     0     0     0     0     0\n",
            "     0     0     0     0     0     0     0     0     0     0     0     0\n",
            "     0     0     0     0     0     0     0     0     0     0  6423 24231\n",
            "     2  7652   102   170     2    47  1898     1   269    17     7 13230\n",
            "   619  1711  2761     3] \n",
            "\n",
            "\n",
            "\n",
            "[ 0  0  0  0  0  0  0  0  0  0  0  0  0  0  0  0  0  0  0  0  0  0  0  0\n",
            "  0  0  0  0  0  0  0  0  0  0  0  0  0  0  0  0  0  0  0  0  0  0  0  0\n",
            "  0  0  0  0  0  0  0  0  0  0  0  0  0  0  0  0  0  0  0  0  0  0  0  0\n",
            "  0  0  0  0  0  0  0  0  0  0  1  1  3 11  1  6  3  2  2  5  1  4  5  6\n",
            "  1  1 11  3]\n"
          ],
          "name": "stdout"
        }
      ]
    },
    {
      "cell_type": "code",
      "metadata": {
        "id": "wTgZ8tsdor7q"
      },
      "source": [
        "# assign padded sequences to X and Y\r\n",
        "X, Y = X_padded, Y_padded"
      ],
      "execution_count": 21,
      "outputs": []
    },
    {
      "cell_type": "markdown",
      "metadata": {
        "id": "S7-ja4UCotuQ"
      },
      "source": [
        "# Word Embeddings \r\n",
        "\r\n",
        "Instead of encoded each word and tag as an integer we'll be using word embedding to represent input words (X) and tags (Y). \r\n",
        "\r\n",
        "But total **tags is 13** so **one-hot encoding** is good enough.   \r\n",
        "\r\n",
        "To use word embeddings, you can go for either of the following models:\r\n",
        "1. word2vec model: https://code.google.com/archive/p/word2vec/\r\n",
        "2. GloVe model : https://nlp.stanford.edu/projects/glove/\r\n",
        "\r\n",
        "\r\n"
      ]
    },
    {
      "cell_type": "markdown",
      "metadata": {
        "id": "ks1Di4ejr4Gu"
      },
      "source": [
        "## Mount Drive & Load Word2Vec"
      ]
    },
    {
      "cell_type": "code",
      "metadata": {
        "id": "wz0I2pP3qrzC",
        "outputId": "3c863d61-2401-4dae-bcd4-64875140f3f9",
        "colab": {
          "base_uri": "https://localhost:8080/"
        }
      },
      "source": [
        "# Use student account \n",
        "from google.colab import drive\n",
        "drive.mount('/content/drive')"
      ],
      "execution_count": 24,
      "outputs": [
        {
          "output_type": "stream",
          "text": [
            "Mounted at /content/drive\n"
          ],
          "name": "stdout"
        }
      ]
    },
    {
      "cell_type": "code",
      "metadata": {
        "id": "g1pE2BKMpOJx"
      },
      "source": [
        "# This is pretrained Word2Vec model \r\n",
        "word2vec_path = \"/content/drive/MyDrive/Word2Vec/GoogleNews-vectors-negative300.bin.gz\" "
      ],
      "execution_count": 28,
      "outputs": []
    },
    {
      "cell_type": "code",
      "metadata": {
        "id": "vF4d3rJcryTv"
      },
      "source": [
        "# load word2vec using the following function present in the gensim library\r\n",
        "word2vec = KeyedVectors.load_word2vec_format(word2vec_path, binary=True)"
      ],
      "execution_count": 29,
      "outputs": []
    },
    {
      "cell_type": "code",
      "metadata": {
        "id": "1EI5FG0SpOZU",
        "outputId": "4a8b6429-ec37-4c87-ea79-fa020c8d2eca",
        "colab": {
          "base_uri": "https://localhost:8080/"
        }
      },
      "source": [
        "# word2vec effectiveness\r\n",
        "word2vec.most_similar(positive = [\"King\", \"Woman\"], negative = [\"Man\"])"
      ],
      "execution_count": 30,
      "outputs": [
        {
          "output_type": "execute_result",
          "data": {
            "text/plain": [
              "[('Queen', 0.4929388165473938),\n",
              " ('Tupou_V.', 0.45174291729927063),\n",
              " ('Oprah_BFF_Gayle', 0.4422132670879364),\n",
              " ('Jackson', 0.440250426530838),\n",
              " ('NECN_Alison', 0.43312832713127136),\n",
              " ('Whitfield', 0.42834725975990295),\n",
              " ('Ida_Vandross', 0.42084527015686035),\n",
              " ('prosecutor_Dan_Satterberg', 0.42075902223587036),\n",
              " ('martin_Luther_King', 0.42059648036956787),\n",
              " ('Coretta_King', 0.42027339339256287)]"
            ]
          },
          "metadata": {
            "tags": []
          },
          "execution_count": 30
        }
      ]
    },
    {
      "cell_type": "markdown",
      "metadata": {
        "id": "WoJfbdw6sS9z"
      },
      "source": [
        "## Word2Vec for words (X)   "
      ]
    },
    {
      "cell_type": "code",
      "metadata": {
        "id": "H5MM0kS3sAlc"
      },
      "source": [
        "# assign word vectors from word2vec model\r\n",
        "\r\n",
        "EMBEDDING_SIZE  = 300  # each word in word2vec model is represented using a 300 dimensional vector\r\n",
        "VOCABULARY_SIZE = len(word_tokenizer.word_index) + 1\r\n",
        "\r\n",
        "# create an empty embedding matix\r\n",
        "embedding_weights = np.zeros((VOCABULARY_SIZE, EMBEDDING_SIZE))\r\n",
        "\r\n",
        "# create a word to index dictionary mapping\r\n",
        "word2id = word_tokenizer.word_index\r\n",
        "\r\n",
        "# copy vectors from word2vec model to the words present in corpus\r\n",
        "for word, index in word2id.items():\r\n",
        "    try:\r\n",
        "        embedding_weights[index, :] = word2vec[word]\r\n",
        "    except KeyError:\r\n",
        "        pass"
      ],
      "execution_count": 31,
      "outputs": []
    },
    {
      "cell_type": "code",
      "metadata": {
        "id": "6Kmt5u7WsDqt",
        "outputId": "b92c149c-85fa-481f-ae77-d50ce59051e3",
        "colab": {
          "base_uri": "https://localhost:8080/"
        }
      },
      "source": [
        "# check embedding dimension\r\n",
        "print(\"Embeddings shape: {}\".format(embedding_weights.shape))"
      ],
      "execution_count": 32,
      "outputs": [
        {
          "output_type": "stream",
          "text": [
            "Embeddings shape: (59449, 300)\n"
          ],
          "name": "stdout"
        }
      ]
    },
    {
      "cell_type": "code",
      "metadata": {
        "id": "IqgHmjoTsFgV",
        "outputId": "a28c5747-5644-445c-c15b-5662f6985cf4",
        "colab": {
          "base_uri": "https://localhost:8080/"
        }
      },
      "source": [
        "# let's look at an embedding of a word\r\n",
        "embedding_weights[word_tokenizer.word_index['joy']]"
      ],
      "execution_count": 33,
      "outputs": [
        {
          "output_type": "execute_result",
          "data": {
            "text/plain": [
              "array([ 0.4453125 , -0.20019531,  0.20019531, -0.03149414,  0.078125  ,\n",
              "       -0.390625  ,  0.13671875, -0.13867188,  0.05395508,  0.10546875,\n",
              "       -0.05029297, -0.23730469,  0.19921875,  0.12597656, -0.12695312,\n",
              "        0.34179688,  0.06347656,  0.26757812, -0.07324219, -0.29101562,\n",
              "        0.10498047,  0.11914062,  0.23730469,  0.00640869,  0.12451172,\n",
              "       -0.00939941, -0.02770996,  0.03076172,  0.07421875, -0.22851562,\n",
              "       -0.08056641, -0.05273438,  0.16894531,  0.19824219, -0.15625   ,\n",
              "       -0.08740234,  0.10742188, -0.07177734,  0.05200195,  0.25976562,\n",
              "        0.171875  , -0.13574219,  0.06738281,  0.00531006,  0.15527344,\n",
              "       -0.03515625,  0.08789062,  0.3359375 , -0.12890625,  0.17578125,\n",
              "       -0.08642578,  0.32421875, -0.09033203,  0.35351562,  0.24316406,\n",
              "       -0.07470703, -0.06640625, -0.17578125,  0.06689453, -0.03833008,\n",
              "        0.0100708 , -0.21484375, -0.03686523,  0.04394531,  0.02209473,\n",
              "        0.00219727, -0.22460938,  0.03015137, -0.21582031,  0.16015625,\n",
              "        0.23339844, -0.16699219, -0.09228516,  0.10644531,  0.19335938,\n",
              "       -0.26757812,  0.15722656, -0.08691406,  0.11181641,  0.14941406,\n",
              "       -0.20507812,  0.04882812, -0.07519531, -0.21582031, -0.10107422,\n",
              "       -0.13378906, -0.06103516,  0.05444336,  0.07470703,  0.09521484,\n",
              "       -0.0144043 ,  0.27929688, -0.25585938, -0.05273438, -0.22460938,\n",
              "        0.10253906, -0.15136719,  0.21289062, -0.04711914, -0.12109375,\n",
              "        0.04663086,  0.25976562,  0.13574219,  0.00799561,  0.02001953,\n",
              "        0.1796875 ,  0.30664062,  0.06152344,  0.13574219, -0.09619141,\n",
              "       -0.07421875,  0.38671875,  0.20800781,  0.12695312,  0.05200195,\n",
              "        0.17675781, -0.16796875, -0.19335938, -0.06152344, -0.07568359,\n",
              "       -0.18457031,  0.06030273, -0.15136719, -0.1953125 , -0.23339844,\n",
              "        0.00738525, -0.02478027, -0.09765625, -0.06054688,  0.20214844,\n",
              "       -0.2734375 ,  0.00595093, -0.34570312, -0.12988281,  0.00418091,\n",
              "        0.09960938,  0.0246582 ,  0.15917969, -0.02038574,  0.30273438,\n",
              "       -0.20800781, -0.20214844, -0.03930664, -0.06494141,  0.00436401,\n",
              "       -0.02270508, -0.171875  ,  0.30273438, -0.16113281, -0.49414062,\n",
              "        0.3515625 ,  0.39257812,  0.09814453,  0.41796875,  0.05371094,\n",
              "        0.02392578, -0.03710938, -0.08251953, -0.38671875, -0.40625   ,\n",
              "       -0.05664062,  0.203125  , -0.01782227,  0.3359375 ,  0.19140625,\n",
              "       -0.44335938,  0.00927734,  0.24804688, -0.05102539,  0.19726562,\n",
              "        0.03881836,  0.03442383, -0.40039062, -0.09912109, -0.07128906,\n",
              "        0.21484375, -0.01422119,  0.04907227, -0.07421875, -0.21582031,\n",
              "       -0.41992188,  0.02172852,  0.11083984, -0.33398438, -0.2734375 ,\n",
              "       -0.05322266, -0.16601562, -0.28515625, -0.12207031,  0.04882812,\n",
              "       -0.0625    , -0.04077148, -0.16503906,  0.0480957 , -0.21191406,\n",
              "        0.20019531, -0.2109375 ,  0.10839844, -0.14648438, -0.07958984,\n",
              "       -0.05151367, -0.16601562, -0.24902344, -0.375     ,  0.05664062,\n",
              "       -0.13671875, -0.2578125 ,  0.28515625, -0.04736328,  0.13574219,\n",
              "       -0.14550781,  0.19433594, -0.21972656,  0.08447266, -0.10791016,\n",
              "       -0.11816406, -0.16015625,  0.12060547, -0.10888672,  0.04345703,\n",
              "        0.11474609, -0.08447266, -0.00720215,  0.03662109, -0.38671875,\n",
              "       -0.03881836, -0.03198242,  0.00344849,  0.22558594, -0.06787109,\n",
              "       -0.16699219,  0.2421875 ,  0.05712891,  0.27539062, -0.0456543 ,\n",
              "       -0.19042969, -0.17285156,  0.00836182, -0.03271484,  0.16992188,\n",
              "       -0.18554688, -0.0703125 , -0.32617188, -0.00668335, -0.02770996,\n",
              "        0.3359375 ,  0.125     , -0.2109375 ,  0.06005859, -0.07080078,\n",
              "        0.11132812,  0.125     ,  0.25390625,  0.29296875, -0.03125   ,\n",
              "        0.09033203, -0.20507812, -0.07861328,  0.02062988, -0.0546875 ,\n",
              "       -0.23339844,  0.00096893, -0.04516602,  0.16894531, -0.22167969,\n",
              "        0.08105469,  0.33398438,  0.09619141,  0.00866699, -0.03271484,\n",
              "        0.05493164,  0.12109375,  0.16210938, -0.10302734,  0.27148438,\n",
              "       -0.03344727, -0.30273438,  0.04223633,  0.08496094, -0.15527344,\n",
              "        0.10107422, -0.11474609, -0.13085938,  0.22949219,  0.12988281,\n",
              "        0.09863281, -0.03588867,  0.10693359, -0.24902344,  0.19238281,\n",
              "       -0.05322266, -0.09033203, -0.31640625, -0.5703125 , -0.15917969,\n",
              "        0.0291748 , -0.0246582 , -0.07714844, -0.04663086, -0.17578125])"
            ]
          },
          "metadata": {
            "tags": []
          },
          "execution_count": 33
        }
      ]
    },
    {
      "cell_type": "markdown",
      "metadata": {
        "id": "4_Fg3BzZsbgk"
      },
      "source": [
        "## One-hot encoding for tags (Y)"
      ]
    },
    {
      "cell_type": "code",
      "metadata": {
        "id": "18zy7h4xsGgg"
      },
      "source": [
        "# use Keras' to_categorical function to one-hot encode Y\r\n",
        "Y = to_categorical(Y)"
      ],
      "execution_count": 34,
      "outputs": []
    },
    {
      "cell_type": "code",
      "metadata": {
        "id": "Qk0xeSyxsjua",
        "outputId": "62151dc3-d252-4c86-b869-4f58b4f0e588",
        "colab": {
          "base_uri": "https://localhost:8080/"
        }
      },
      "source": [
        "# print Y of the first output sequence\r\n",
        "print(Y.shape)"
      ],
      "execution_count": 35,
      "outputs": [
        {
          "output_type": "stream",
          "text": [
            "(72202, 100, 13)\n"
          ],
          "name": "stdout"
        }
      ]
    },
    {
      "cell_type": "markdown",
      "metadata": {
        "id": "weOS0lpIsnYc"
      },
      "source": [
        "# Traing,validation test sets split \r\n",
        "\r\n",
        "Ratio [training and validation], test sets is **0.85, 0.15** "
      ]
    },
    {
      "cell_type": "code",
      "metadata": {
        "id": "gJj-_dDhs87M"
      },
      "source": [
        "TRAIN_SIZE = 0.85\r\n",
        "TEST_SIZE = 0.15"
      ],
      "execution_count": 41,
      "outputs": []
    },
    {
      "cell_type": "code",
      "metadata": {
        "id": "apZgnJrssvfv"
      },
      "source": [
        "# split entire data into training and testing sets\r\n",
        "TEST_SIZE = 0.15\r\n",
        "X_train, X_test, Y_train, Y_test = train_test_split(X, Y, test_size=TEST_SIZE, random_state=4)"
      ],
      "execution_count": 42,
      "outputs": []
    },
    {
      "cell_type": "code",
      "metadata": {
        "id": "_HnRp2EUs6-3"
      },
      "source": [
        "# split training data into training and validation sets\r\n",
        "VALID_SIZE = 0.15\r\n",
        "X_train, X_validation, Y_train, Y_validation = train_test_split(X_train, Y_train, test_size=VALID_SIZE, random_state=4)"
      ],
      "execution_count": 43,
      "outputs": []
    },
    {
      "cell_type": "code",
      "metadata": {
        "id": "Bb1fm9RZslzc",
        "outputId": "e5e8b2b2-ccf5-4596-87e5-57df6e07e828",
        "colab": {
          "base_uri": "https://localhost:8080/"
        }
      },
      "source": [
        "# print number of samples in each set\r\n",
        "print(\"TRAINING DATA\")\r\n",
        "print('Shape of input sequences: {}'.format(X_train.shape))\r\n",
        "print('Shape of output sequences: {}'.format(Y_train.shape))\r\n",
        "print(\"-\"*50)\r\n",
        "print(\"VALIDATION DATA\")\r\n",
        "print('Shape of input sequences: {}'.format(X_validation.shape))\r\n",
        "print('Shape of output sequences: {}'.format(Y_validation.shape))\r\n",
        "print(\"-\"*50)\r\n",
        "print(\"TESTING DATA\")\r\n",
        "print('Shape of input sequences: {}'.format(X_test.shape))\r\n",
        "print('Shape of output sequences: {}'.format(Y_test.shape))"
      ],
      "execution_count": 44,
      "outputs": [
        {
          "output_type": "stream",
          "text": [
            "TRAINING DATA\n",
            "Shape of input sequences: (52165, 100)\n",
            "Shape of output sequences: (52165, 100, 13)\n",
            "--------------------------------------------------\n",
            "VALIDATION DATA\n",
            "Shape of input sequences: (9206, 100)\n",
            "Shape of output sequences: (9206, 100, 13)\n",
            "--------------------------------------------------\n",
            "TESTING DATA\n",
            "Shape of input sequences: (10831, 100)\n",
            "Shape of output sequences: (10831, 100, 13)\n"
          ],
          "name": "stdout"
        }
      ]
    },
    {
      "cell_type": "markdown",
      "metadata": {
        "id": "8IiNF7ontkN8"
      },
      "source": [
        "**Shape of X: (#samples, #timesteps, #features)**\r\n",
        "\r\n",
        "**Shape of Y: (#samples, #timesteps, #features)** "
      ]
    },
    {
      "cell_type": "markdown",
      "metadata": {
        "id": "jnmFYjPKtrc-"
      },
      "source": [
        "# Long-Short Term Memory "
      ]
    },
    {
      "cell_type": "code",
      "metadata": {
        "id": "dUPd61Rmt7vw"
      },
      "source": [
        "# total number of tags\r\n",
        "NUM_CLASSES = Y.shape[2]"
      ],
      "execution_count": 47,
      "outputs": []
    },
    {
      "cell_type": "markdown",
      "metadata": {
        "id": "K2cxaiVBuB0s"
      },
      "source": [
        "## Model Architecture "
      ]
    },
    {
      "cell_type": "code",
      "metadata": {
        "id": "dXrb5DsFs4p8"
      },
      "source": [
        "# create architecture\r\n",
        "\r\n",
        "lstm_model = Sequential()\r\n",
        "lstm_model.add(Embedding(input_dim     = VOCABULARY_SIZE,         # vocabulary size - number of unique words in data\r\n",
        "                         output_dim    = EMBEDDING_SIZE,          # length of vector with which each word is represented\r\n",
        "                         input_length  = MAX_SEQ_LENGTH,          # length of input sequence\r\n",
        "                         weights       = [embedding_weights],     # word embedding matrix\r\n",
        "                         trainable     = True                     # True - update embeddings_weight matrix\r\n",
        "))\r\n",
        "lstm_model.add(LSTM(64, return_sequences=True))\r\n",
        "lstm_model.add(TimeDistributed(Dense(NUM_CLASSES, activation='softmax')))"
      ],
      "execution_count": 48,
      "outputs": []
    },
    {
      "cell_type": "markdown",
      "metadata": {
        "id": "6Ek9uQ9YuDvS"
      },
      "source": [
        "## Compile Model "
      ]
    },
    {
      "cell_type": "code",
      "metadata": {
        "id": "ZXqvCXidt9F0"
      },
      "source": [
        "# compile model \r\n",
        "lstm_model.compile(loss      =  'categorical_crossentropy',\r\n",
        "                   optimizer =  'adam',\r\n",
        "                   metrics   =  ['acc'])"
      ],
      "execution_count": 50,
      "outputs": []
    },
    {
      "cell_type": "code",
      "metadata": {
        "id": "nprVg7ZvuF6N",
        "outputId": "f6867611-a368-4221-afed-d299403e1f97",
        "colab": {
          "base_uri": "https://localhost:8080/"
        }
      },
      "source": [
        "lstm_model.summary()"
      ],
      "execution_count": 51,
      "outputs": [
        {
          "output_type": "stream",
          "text": [
            "Model: \"sequential_1\"\n",
            "_________________________________________________________________\n",
            "Layer (type)                 Output Shape              Param #   \n",
            "=================================================================\n",
            "embedding_1 (Embedding)      (None, 100, 300)          17834700  \n",
            "_________________________________________________________________\n",
            "lstm_1 (LSTM)                (None, 100, 64)           93440     \n",
            "_________________________________________________________________\n",
            "time_distributed (TimeDistri (None, 100, 13)           845       \n",
            "=================================================================\n",
            "Total params: 17,928,985\n",
            "Trainable params: 17,928,985\n",
            "Non-trainable params: 0\n",
            "_________________________________________________________________\n"
          ],
          "name": "stdout"
        }
      ]
    },
    {
      "cell_type": "markdown",
      "metadata": {
        "id": "TgHn2tNzuJY-"
      },
      "source": [
        "## Fit model "
      ]
    },
    {
      "cell_type": "code",
      "metadata": {
        "id": "ky4Q1VDguGEn",
        "outputId": "d2086136-ca9c-4f57-cf13-9cfdf836a6be",
        "colab": {
          "base_uri": "https://localhost:8080/"
        }
      },
      "source": [
        "lstm_training = lstm_model.fit(X_train, Y_train, \r\n",
        "                               batch_size=128, epochs=10, \r\n",
        "                               validation_data=(X_validation, Y_validation))"
      ],
      "execution_count": 52,
      "outputs": [
        {
          "output_type": "stream",
          "text": [
            "Epoch 1/10\n",
            "408/408 [==============================] - 214s 518ms/step - loss: 0.6721 - acc: 0.8774 - val_loss: 0.0501 - val_acc: 0.9868\n",
            "Epoch 2/10\n",
            "408/408 [==============================] - 207s 507ms/step - loss: 0.0402 - acc: 0.9887 - val_loss: 0.0307 - val_acc: 0.9897\n",
            "Epoch 3/10\n",
            "408/408 [==============================] - 207s 507ms/step - loss: 0.0249 - acc: 0.9915 - val_loss: 0.0270 - val_acc: 0.9905\n",
            "Epoch 4/10\n",
            "408/408 [==============================] - 204s 500ms/step - loss: 0.0206 - acc: 0.9926 - val_loss: 0.0254 - val_acc: 0.9909\n",
            "Epoch 5/10\n",
            "408/408 [==============================] - 204s 499ms/step - loss: 0.0182 - acc: 0.9934 - val_loss: 0.0247 - val_acc: 0.9911\n",
            "Epoch 6/10\n",
            "408/408 [==============================] - 201s 494ms/step - loss: 0.0163 - acc: 0.9940 - val_loss: 0.0244 - val_acc: 0.9913\n",
            "Epoch 7/10\n",
            "408/408 [==============================] - 201s 493ms/step - loss: 0.0150 - acc: 0.9946 - val_loss: 0.0243 - val_acc: 0.9915\n",
            "Epoch 8/10\n",
            "408/408 [==============================] - 216s 529ms/step - loss: 0.0136 - acc: 0.9951 - val_loss: 0.0244 - val_acc: 0.9915\n",
            "Epoch 9/10\n",
            "408/408 [==============================] - 212s 519ms/step - loss: 0.0122 - acc: 0.9956 - val_loss: 0.0246 - val_acc: 0.9916\n",
            "Epoch 10/10\n",
            "408/408 [==============================] - 203s 498ms/step - loss: 0.0108 - acc: 0.9962 - val_loss: 0.0256 - val_acc: 0.9915\n"
          ],
          "name": "stdout"
        }
      ]
    },
    {
      "cell_type": "code",
      "metadata": {
        "id": "xsL3V7pjuPbA",
        "outputId": "4b00648b-550d-4a3b-9862-9cb2482b3291",
        "colab": {
          "base_uri": "https://localhost:8080/",
          "height": 294
        }
      },
      "source": [
        "# visualise training history\r\n",
        "plt.plot(lstm_training.history['acc'])\r\n",
        "plt.plot(lstm_training.history['val_acc'])\r\n",
        "plt.title('model accuracy')\r\n",
        "plt.ylabel('accuracy')\r\n",
        "plt.xlabel('epoch')\r\n",
        "plt.legend(['train', 'test'], loc=\"lower right\")\r\n",
        "plt.show()"
      ],
      "execution_count": 53,
      "outputs": [
        {
          "output_type": "display_data",
          "data": {
            "image/png": "[encoded data removed]",
            "text/plain": [
              "<Figure size 432x288 with 1 Axes>"
            ]
          },
          "metadata": {
            "tags": [],
            "needs_background": "light"
          }
        }
      ]
    },
    {
      "cell_type": "markdown",
      "metadata": {
        "id": "SoLZZcKtvBiu"
      },
      "source": [
        "## Save trained model "
      ]
    },
    {
      "cell_type": "code",
      "metadata": {
        "id": "yBlzMGmHvDMm",
        "outputId": "5a3ae9c4-eae5-4e74-bf2b-3ce1f963d58f",
        "colab": {
          "base_uri": "https://localhost:8080/"
        }
      },
      "source": [
        "save_path = \"/content/drive/MyDrive/Word2Vec/\" \r\n",
        "lstm_model.save(save_path)"
      ],
      "execution_count": 56,
      "outputs": [
        {
          "output_type": "stream",
          "text": [
            "WARNING:absl:Found untraced functions such as lstm_cell_1_layer_call_and_return_conditional_losses, lstm_cell_1_layer_call_fn, lstm_cell_1_layer_call_fn, lstm_cell_1_layer_call_and_return_conditional_losses, lstm_cell_1_layer_call_and_return_conditional_losses while saving (showing 5 of 5). These functions will not be directly callable after loading.\n",
            "WARNING:absl:Found untraced functions such as lstm_cell_1_layer_call_and_return_conditional_losses, lstm_cell_1_layer_call_fn, lstm_cell_1_layer_call_fn, lstm_cell_1_layer_call_and_return_conditional_losses, lstm_cell_1_layer_call_and_return_conditional_losses while saving (showing 5 of 5). These functions will not be directly callable after loading.\n"
          ],
          "name": "stderr"
        },
        {
          "output_type": "stream",
          "text": [
            "INFO:tensorflow:Assets written to: /content/drive/MyDrive/Word2Vec/assets\n"
          ],
          "name": "stdout"
        },
        {
          "output_type": "stream",
          "text": [
            "INFO:tensorflow:Assets written to: /content/drive/MyDrive/Word2Vec/assets\n"
          ],
          "name": "stderr"
        }
      ]
    },
    {
      "cell_type": "markdown",
      "metadata": {
        "id": "dymMxwjmwvBX"
      },
      "source": [
        "## Load trained model "
      ]
    },
    {
      "cell_type": "code",
      "metadata": {
        "id": "3vzT6zZywr4y"
      },
      "source": [
        "# load model \r\n",
        "# lstm_model.load(save_path)"
      ],
      "execution_count": null,
      "outputs": []
    },
    {
      "cell_type": "markdown",
      "metadata": {
        "id": "ZAlxgz7puVzK"
      },
      "source": [
        "# Model Evaluation"
      ]
    },
    {
      "cell_type": "code",
      "metadata": {
        "id": "vvzDwVKMuXov",
        "outputId": "5df8d95c-01ff-4ac3-b6be-a0b6ff51e020",
        "colab": {
          "base_uri": "https://localhost:8080/"
        }
      },
      "source": [
        "loss, accuracy = lstm_model.evaluate(X_test, Y_test, verbose = 1)\r\n",
        "print(\"Loss: {0},\\nAccuracy: {1}\".format(loss, accuracy))"
      ],
      "execution_count": 54,
      "outputs": [
        {
          "output_type": "stream",
          "text": [
            "339/339 [==============================] - 9s 28ms/step - loss: 0.0252 - acc: 0.9916\n",
            "Loss: 0.025211013853549957,\n",
            "Accuracy: 0.9916166663169861\n"
          ],
          "name": "stdout"
        }
      ]
    }
  ]
}